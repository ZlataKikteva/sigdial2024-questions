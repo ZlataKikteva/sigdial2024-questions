{
 "cells": [
  {
   "cell_type": "markdown",
   "id": "7ba4a0d6-64df-4fdd-be1a-f66370c01592",
   "metadata": {},
   "source": [
    "# Bring the dataset into the format expected by the BERT evaluation code"
   ]
  },
  {
   "cell_type": "code",
   "execution_count": null,
   "id": "7c818927-2300-404d-a53a-8bc090752b1e",
   "metadata": {},
   "outputs": [],
   "source": [
    "import pandas as pd\n",
    "from imblearn.over_sampling import RandomOverSampler\n",
    "from sklearn.model_selection import train_test_split\n",
    "\n",
    "STRATEGY = {\n",
    "    'q': ['processed_question_locution'],\n",
    "    'pq': ['processed_preceding_locution', 'processed_question_locution'],\n",
    "    'qr': ['processed_question_locution', 'processed_response_locution_merged'],\n",
    "    'pr': ['processed_preceding_locution', 'processed_response_locution_merged'],\n",
    "    'pqr': ['processed_preceding_locution', 'processed_question_locution', 'processed_response_locution_merged']\n",
    "}\n",
    "\n",
    "def create_datasets(df, type='train'):\n",
    "    # merge list of response locutions\n",
    "    temp = df['processed_response_locutions'].values\n",
    "    joined = [''.join(eval(t)) for t in temp]\n",
    "    df['processed_response_locution_merged'] = joined\n",
    "    df = df.fillna('')\n",
    "\n",
    "    # create data set for each strategy\n",
    "    for strategy, merges in STRATEGY.items():\n",
    "        # just concatenating merges\n",
    "        df[strategy] = df[merges].values.tolist()\n",
    "        df[strategy] = df[strategy].str.join(' ')\n",
    "\n",
    "        # rename to expected columns and save\n",
    "        df.rename(columns={strategy: 'sentence1', 'question_type': 'label'})[['sentence1', 'label']].to_csv(f'data/ts_{strategy}_{type}.csv', index=False)"
   ]
  },
  {
   "cell_type": "code",
   "execution_count": null,
   "id": "98101aa7-5afe-4e9e-9bff-6fc4470a7599",
   "metadata": {},
   "outputs": [],
   "source": [
    "train = pd.read_csv('./source/QT-Questions-train-over.csv')\n",
    "test = pd.read_csv('./source/QT-Questions-test.csv')"
   ]
  },
  {
   "cell_type": "code",
   "execution_count": null,
   "id": "d02cb950-ae03-423d-8ac8-f886085a1352",
   "metadata": {},
   "outputs": [],
   "source": [
    "create_datasets(train, 'train')\n",
    "create_datasets(test, 'test')"
   ]
  },
  {
   "cell_type": "code",
   "execution_count": null,
   "id": "d523f2cc-70dc-41a5-96b9-bb3576e0b39d",
   "metadata": {},
   "outputs": [],
   "source": [
    "train = pd.read_csv('./source/QT-Questions-train-over.csv')\n",
    "test = pd.read_csv('./source/QT-Questions-test.csv')\n",
    "\n",
    "train.rename(columns={'processed_question_locution': 'sentence1', 'question_type': 'label'})[['sentence1', 'label']].to_csv('./data/ts_train.csv', index=False)\n",
    "test.rename(columns={'processed_question_locution': 'sentence1', 'question_type': 'label'})[['sentence1', 'label']].to_csv('./data/ts_test.csv', index=False)"
   ]
  }
 ],
 "metadata": {
  "kernelspec": {
   "display_name": "Python 3 (ipykernel)",
   "language": "python",
   "name": "python3"
  },
  "language_info": {
   "codemirror_mode": {
    "name": "ipython",
    "version": 3
   },
   "file_extension": ".py",
   "mimetype": "text/x-python",
   "name": "python",
   "nbconvert_exporter": "python",
   "pygments_lexer": "ipython3",
   "version": "3.10.5"
  }
 },
 "nbformat": 4,
 "nbformat_minor": 5
}
