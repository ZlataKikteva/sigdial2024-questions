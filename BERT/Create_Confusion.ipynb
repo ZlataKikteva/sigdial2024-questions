{
 "cells": [
  {
   "cell_type": "markdown",
   "id": "ced1ad10-ab68-44f7-94f6-f5fa62534737",
   "metadata": {},
   "source": [
    "# Read the data produced by the BERT evaluation code"
   ]
  },
  {
   "cell_type": "code",
   "execution_count": null,
   "id": "e58df0f0-c98a-40a3-b34e-5fa928cd01a9",
   "metadata": {},
   "outputs": [],
   "source": [
    "import pandas as pd\n",
    "import matplotlib.pyplot as plt\n",
    "\n",
    "from sklearn.metrics import confusion_matrix, accuracy_score, balanced_accuracy_score, ConfusionMatrixDisplay"
   ]
  },
  {
   "cell_type": "code",
   "execution_count": null,
   "id": "d5cc7950-ab6f-4cce-a8ef-c30351513b53",
   "metadata": {},
   "outputs": [],
   "source": [
    "def create_plots(result, real, labels, strategy):\n",
    "    y_pred = result['prediction'].values\n",
    "    y_true = real['label'].values\n",
    "    bal = balanced_accuracy_score(y_true, y_pred)\n",
    "\n",
    "    fig = plt.figure()\n",
    "    ax = fig.gca()\n",
    "    ax.set_title(f'strategy: {strategy}, balanced accuracy: {bal:.2f}')\n",
    "    disp = ConfusionMatrixDisplay.from_predictions(y_true, y_pred, display_labels=labels, colorbar=False, ax=ax, xticks_rotation=45)\n",
    "    plt.show()"
   ]
  },
  {
   "cell_type": "code",
   "execution_count": null,
   "id": "a12a3aee-da74-42de-bc84-0c0c8be09fbc",
   "metadata": {},
   "outputs": [],
   "source": [
    "for s in ['q', 'pq', 'qr', 'pr', 'pqr']:\n",
    "    pred = pd.read_csv(f'./results/{s}_bert.txt', sep='\\t')\n",
    "    real = pd.read_csv(f'./data/ts_{s}_test.csv')\n",
    "    create_plots(pred, real, ['Assertive Questioning', 'Pure Questioning', 'Rhetorical Questioning'], s)"
   ]
  }
 ],
 "metadata": {
  "kernelspec": {
   "display_name": "Python 3 (ipykernel)",
   "language": "python",
   "name": "python3"
  },
  "language_info": {
   "codemirror_mode": {
    "name": "ipython",
    "version": 3
   },
   "file_extension": ".py",
   "mimetype": "text/x-python",
   "name": "python",
   "nbconvert_exporter": "python",
   "pygments_lexer": "ipython3",
   "version": "3.10.5"
  }
 },
 "nbformat": 4,
 "nbformat_minor": 5
}
